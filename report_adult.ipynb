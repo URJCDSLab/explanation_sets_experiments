{
 "cells": [
  {
   "cell_type": "code",
   "execution_count": 29,
   "metadata": {},
   "outputs": [],
   "source": [
    "import os\n",
    "import pandas as pd\n",
    "import numpy as np\n",
    "import joblib\n",
    "from tqdm.auto import tqdm\n",
    "import matplotlib.pyplot as plt\n",
    "import seaborn as sns\n",
    "sns.set(rc={'figure.figsize':(5,5)})"
   ]
  },
  {
   "cell_type": "code",
   "execution_count": 10,
   "metadata": {},
   "outputs": [
    {
     "name": "stdout",
     "output_type": "stream",
     "text": [
      "The autoreload extension is already loaded. To reload it, use:\n",
      "  %reload_ext autoreload\n"
     ]
    }
   ],
   "source": [
    "%load_ext autoreload\n",
    "%autoreload 2\n",
    "\n",
    "import experiments_utils\n",
    "from mlexpies import neighborhood"
   ]
  },
  {
   "cell_type": "code",
   "execution_count": 3,
   "metadata": {},
   "outputs": [],
   "source": [
    "STORE_DATA_FOLDER = 'experiments/adult/'\n",
    "\n",
    "def load_exported_data(name):\n",
    "    return joblib.load(os.path.join(STORE_DATA_FOLDER, name))\n",
    "\n",
    "folds_data = load_exported_data('folds.bz2')"
   ]
  },
  {
   "cell_type": "markdown",
   "metadata": {},
   "source": [
    "# Load data"
   ]
  },
  {
   "cell_type": "code",
   "execution_count": 4,
   "metadata": {},
   "outputs": [],
   "source": [
    "sf_regression_base_raw = load_exported_data('sf_clasification_base@sgower.bz2')\n",
    "sf_regression_base = pd.DataFrame(experiments_utils.extract_anchor_explanations(sf_regression_base_raw))"
   ]
  },
  {
   "cell_type": "code",
   "execution_count": 5,
   "metadata": {},
   "outputs": [],
   "source": [
    "sf_regression_res_raw = load_exported_data('sf_clasification_restrict@sgower.bz2')\n",
    "sf_regression_res = pd.DataFrame(experiments_utils.extract_anchor_explanations(sf_regression_res_raw))"
   ]
  },
  {
   "cell_type": "code",
   "execution_count": 6,
   "metadata": {},
   "outputs": [],
   "source": [
    "cc_cls_base_raw = load_exported_data('cc_clasification_base@sgower.bz2')\n",
    "cc_cls_base = pd.DataFrame(experiments_utils.extract_counterfactual_explanations(cc_cls_base_raw))\n",
    "cc_cls_base['round_actual'] = (cc_cls_base['actual'] > 0.5).astype(int)\n",
    "cc_cls_base.set_index('sample_idx', inplace=True)"
   ]
  },
  {
   "cell_type": "code",
   "execution_count": 7,
   "metadata": {},
   "outputs": [],
   "source": [
    "cc_cls_res_raw = load_exported_data('cc_clasification_restrict@sgower.bz2')\n",
    "cc_cls_res = pd.DataFrame(experiments_utils.extract_counterfactual_explanations(cc_cls_res_raw))\n",
    "cc_cls_res['round_actual'] = (cc_cls_res['actual'] > 0.5).astype(int)\n",
    "cc_cls_res.set_index('sample_idx', inplace=True)"
   ]
  },
  {
   "cell_type": "code",
   "execution_count": 8,
   "metadata": {},
   "outputs": [],
   "source": [
    "cs_cls_base_raw = load_exported_data('cs_clasification_base@sgower.bz2')\n",
    "cs_cls_base = pd.DataFrame(experiments_utils.extract_anchor_explanations(cs_cls_base_raw))\n",
    "cs_cls_base['prediction'] = (1 + cs_cls_base['prediction']) % 2"
   ]
  },
  {
   "cell_type": "code",
   "execution_count": 9,
   "metadata": {},
   "outputs": [],
   "source": [
    "cs_cls_res_raw = load_exported_data('cs_clasification_restrict@sgower.bz2')\n",
    "cs_cls_res = pd.DataFrame(experiments_utils.extract_anchor_explanations(cs_cls_res_raw))\n",
    "cs_cls_res['prediction'] = (1 + cs_cls_res['prediction']) % 2"
   ]
  },
  {
   "cell_type": "markdown",
   "metadata": {},
   "source": [
    "# Co-ocurrence figure"
   ]
  },
  {
   "cell_type": "code",
   "execution_count": 10,
   "metadata": {},
   "outputs": [],
   "source": [
    "columns_order = ['Age', 'Workclass', 'Education', 'MaritalStatus', 'Occupation',\n",
    "       'Relationship', 'Race', 'Sex', 'CapitalGain', 'CapitalLoss',\n",
    "       'HoursPerWeek']"
   ]
  },
  {
   "cell_type": "code",
   "execution_count": 65,
   "metadata": {},
   "outputs": [],
   "source": [
    "from matplotlib import colors\n",
    "\n",
    "cmap = colors.ListedColormap(sns.color_palette(\"colorblind\").as_hex())\n",
    "\n",
    "def plot_cc_combs(df, title, top=5, columns_order=None, include_x_labels=True, ax=None):\n",
    "    df = df.copy()\n",
    "    ccs = df['counterfacutal'].apply(pd.Series)\n",
    "    ccos = df['observation'].apply(pd.Series)[ccs.columns]\n",
    "    diff = abs(ccs - ccos) > 0.1\n",
    "    most_common = diff.groupby(df['round_actual']).apply(lambda x: x.value_counts().head(top) / len(x))\n",
    "    cc_most_common_pattern = most_common.reset_index()\n",
    "    cc_most_common_pattern.rename(columns={0:'counts'}, inplace=True)\n",
    "    cc_matrix = cc_most_common_pattern\n",
    "\n",
    "    cc_matrix = cc_matrix.replace(False, 0.0)\n",
    "    cc_matrix = cc_matrix.replace(True, 1.0)\n",
    "    cc_matrix.loc[cc_matrix['round_actual'] == 1] = cc_matrix.loc[cc_matrix['round_actual'] == 1].replace(1.0, 0.5)\n",
    "    cc_matrix = cc_matrix.sort_values(by='counts', ascending=False)\n",
    "    cc_counts = cc_matrix['counts']\n",
    "    cc_matrix = cc_matrix.drop(columns=['round_actual', 'counts'])\n",
    "    \n",
    "    if columns_order is not None:\n",
    "        cc_matrix = cc_matrix[[col for col in columns_order if col in cc_matrix.columns]]\n",
    "        \n",
    "    g = sns.heatmap(cc_matrix, ax=ax, cbar=False, xticklabels=cc_matrix.columns,\n",
    "                yticklabels=[f'{int(x)}%' for x in round(100 * cc_counts, 0)], linewidths=.5, cmap=colors.ListedColormap(['white', cmap.colors[0], cmap.colors[1]]))\n",
    "    g.set_xticklabels(labels = g.get_xticklabels(), rotation=90)\n",
    "    g.set(title=title)\n",
    "    if not include_x_labels:\n",
    "        g.set(xticklabels=[])\n",
    "        \n",
    "    fig = g.figure\n",
    "    g.axes.set_title(title, fontsize=10)\n",
    "    fig.tight_layout()\n",
    "    return fig\n",
    "\n",
    "def extract_feat(x):\n",
    "    if x.count('<') == 2:\n",
    "        return x.split(' ')[2]\n",
    "    return x[:x.find(' ')]\n",
    "\n",
    "def plot_sf_combs(df, title, columns_order, top=5, fixed=(), remove=(), include_x_labels=True, ax=None, cbar=False):\n",
    "    df = df.copy()\n",
    "    ccs = df['anchor'].apply(lambda ac: frozenset([extract_feat(x) for x in ac]))\n",
    "    \n",
    "    ccs_top_values = []\n",
    "    for prediction in [0, 1]:\n",
    "        ccs_pred = ccs[df['prediction'] == prediction]\n",
    "        top_comb = ccs_pred.value_counts().head(top)\n",
    "        ccs_top_values.append(ccs_pred[ccs_pred.apply(lambda x: x in top_comb.index) ]) \n",
    "    \n",
    "    ccs_top = pd.concat(ccs_top_values, axis=0)\n",
    "    ccs_top_matrix = ccs_top.apply(lambda x: pd.Series([(col in x) for col in columns_order], index=columns_order)).fillna(False)\n",
    "    ccs_top_matrix = ccs_top_matrix.join(df['prediction'], how='inner')\n",
    "    \n",
    "    sf_most_common_pattern = ccs_top_matrix.groupby('prediction').apply(lambda x: x.value_counts() / len(x)).reset_index(level=0, drop=True)\n",
    "    sf_most_common_pattern = sf_most_common_pattern.reset_index()\n",
    "    sf_most_common_pattern.sort_values(by=0, inplace=True, ascending=False)\n",
    "    sf_counts = sf_most_common_pattern[0]\n",
    "    sf_matrix = sf_most_common_pattern.drop(columns=0)\n",
    "    \n",
    "    for col in fixed:\n",
    "        sf_matrix[col] = True\n",
    "        \n",
    "    for col in remove:\n",
    "        sf_matrix[col] = False\n",
    "    \n",
    "    sf_matrix = sf_matrix.replace(False, 0)\n",
    "    sf_matrix = sf_matrix.replace(True, 1)\n",
    "    sf_matrix.loc[sf_matrix['prediction'] == 1] = sf_matrix.loc[sf_matrix['prediction'] == 1].replace(1.0, 0.5)\n",
    "    sf_matrix = sf_matrix.drop(columns='prediction')\n",
    "    \n",
    "    if columns_order is not None:\n",
    "        sf_matrix = sf_matrix[[col for col in columns_order if col in sf_matrix.columns]]\n",
    "        \n",
    "    g = sns.heatmap(sf_matrix, cbar=cbar, ax=ax, xticklabels=sf_matrix.columns,\n",
    "                yticklabels=[f'{int(x)}%' for x in round(100 * sf_counts, 0)], linewidths=.5, cmap=colors.ListedColormap(['white', cmap.colors[0], cmap.colors[1]]))\n",
    "    g.set_xticklabels(labels = g.get_xticklabels(), rotation=90)\n",
    "    g.set(title=title)\n",
    "    if not include_x_labels:\n",
    "        g.set(xticklabels=[])\n",
    "        \n",
    "    fig = g.figure\n",
    "    g.axes.set_title(title, fontsize=11)\n",
    "    fig.tight_layout()\n",
    "    return ax, fig"
   ]
  },
  {
   "cell_type": "code",
   "execution_count": 66,
   "metadata": {},
   "outputs": [
    {
     "data": {
      "image/png": "[encoded data removed]",
      "text/plain": [
       "<Figure size 540x360 with 6 Axes>"
      ]
     },
     "metadata": {},
     "output_type": "display_data"
    }
   ],
   "source": [
    "fig, axs = plt.subplots(2, 3, figsize=(7.5, 5)) #gridspec_kw=dict(height_ratios=[2/3, 2/3]))\n",
    "\n",
    "sample_size=1\n",
    "\n",
    "fixed_features = ('Race', 'Sex', 'MaritalStatus', 'Relationship')\n",
    "\n",
    "plot_cc_combs(cc_cls_base, title='A) Counterfactuals', columns_order=columns_order, ax=axs[0, 0], include_x_labels=False)\n",
    "plot_cc_combs(cc_cls_res, title='D) Counterfactuals res.', columns_order=columns_order, ax=axs[1, 0])\n",
    "\n",
    "plot_sf_combs(sf_regression_base, title='B) Semifactuals', columns_order=columns_order, ax=axs[0, 1], include_x_labels=False, cbar=False)\n",
    "plot_sf_combs(sf_regression_res, title='E) Semifactuals res.', columns_order=columns_order, fixed=fixed_features, ax=axs[1, 1])\n",
    "\n",
    "plot_sf_combs(cs_cls_base, title='C) Counterfactual S.', columns_order=columns_order, ax=axs[0, 2], include_x_labels=False, cbar=False)\n",
    "plot_sf_combs(cs_cls_res, title='F) Counterfactual S. res.', columns_order=columns_order, fixed=fixed_features, ax=axs[1, 2])\n",
    "\n",
    "\n",
    "for i in range(2):\n",
    "    for j in range(3):\n",
    "        axs[i, j].set_aspect('equal')\n",
    "        \n",
    "# Add legend\n",
    "#colorbar = ax.collections[0].colorbar\n",
    "#colorbar.set_ticks([0, 0.5, 1])\n",
    "#colorbar.set_ticklabels(['', '$\\leq\\$50k$', '$>\\$50k$'])\n",
    "\n",
    "fig.savefig('figures/adult_exps_co.png', dpi=400)"
   ]
  },
  {
   "cell_type": "markdown",
   "metadata": {},
   "source": [
    "# Neighborhood label representation"
   ]
  },
  {
   "cell_type": "code",
   "execution_count": 104,
   "metadata": {},
   "outputs": [],
   "source": [
    "def calculate_label_ratios(fast_neighborhood):\n",
    "    ratios = {0: [], 1: []}\n",
    "    for fold_id, fold_data in enumerate(tqdm(folds_data, position=0)):\n",
    "        df = fold_data['df']\n",
    "        train_idx = fold_data['train_idx']\n",
    "        dataset_info = fold_data['dataset_info']\n",
    "        df_train = df.drop(columns=dataset_info.target_column)\n",
    "        X_train = df_train.loc[train_idx]\n",
    "        y_train_hat = pd.Series((fold_data['model'].predict(X_train) > 0.5).astype(int))\n",
    "        \n",
    "        for train_idx in train_idx:\n",
    "            sample = X_train.loc[train_idx]\n",
    "            label = df.loc[train_idx, dataset_info.target_column]\n",
    "                \n",
    "            belong_neighborhood_mask =  fast_neighborhood(sample, X_train)\n",
    "            counts = y_train_hat[belong_neighborhood_mask].value_counts()\n",
    "            counts_np = np.array([counts[l] if l in counts else 0 for l in ratios.keys()])\n",
    "            ratios[label].append(counts_np / counts_np.sum())\n",
    "            \n",
    "    return ratios\n",
    "\n",
    "\n",
    "def agg_label(values):\n",
    "    all_values = np.vstack(values)\n",
    "    return all_values.sum(axis=0) / len(values)"
   ]
  },
  {
   "cell_type": "code",
   "execution_count": 102,
   "metadata": {},
   "outputs": [],
   "source": [
    "def fast_belong_base_neighborhood(sample, X_train):\n",
    "    return np.full(len(X_train), True)\n",
    "\n",
    "def fast_belong_restricted_neighborhood_factory(fixed):\n",
    "    def impl(sample, X_train):\n",
    "        mask = np.zeros(len(X_train))\n",
    "        \n",
    "        for feature in fixed:\n",
    "            mask += (sample[feature] != X_train[feature]).astype(int)\n",
    "            \n",
    "        if isinstance(mask, pd.Series):\n",
    "            mask = mask.values\n",
    "            \n",
    "        return mask == 0\n",
    "    \n",
    "    return impl"
   ]
  },
  {
   "cell_type": "code",
   "execution_count": 105,
   "metadata": {},
   "outputs": [
    {
     "data": {
      "application/vnd.jupyter.widget-view+json": {
       "model_id": "eb4e1b137cbf44d7b67dc4eea6df1a99",
       "version_major": 2,
       "version_minor": 0
      },
      "text/plain": [
       "  0%|          | 0/10 [00:00<?, ?it/s]"
      ]
     },
     "metadata": {},
     "output_type": "display_data"
    }
   ],
   "source": [
    "res = calculate_label_ratios(fast_belong_restricted_neighborhood_factory(['Race', 'Sex', 'MaritalStatus', 'Relationship']))"
   ]
  },
  {
   "cell_type": "code",
   "execution_count": 81,
   "metadata": {},
   "outputs": [
    {
     "data": {
      "application/vnd.jupyter.widget-view+json": {
       "model_id": "8a68aa05287a450aaf88d40a4bd5fd00",
       "version_major": 2,
       "version_minor": 0
      },
      "text/plain": [
       "  0%|          | 0/10 [00:00<?, ?it/s]"
      ]
     },
     "metadata": {},
     "output_type": "display_data"
    }
   ],
   "source": [
    "base = calculate_label_ratios(fast_belong_base_neighborhood)"
   ]
  },
  {
   "cell_type": "code",
   "execution_count": 106,
   "metadata": {},
   "outputs": [
    {
     "data": {
      "text/plain": [
       "(array([0.84329059, 0.15670941]), array([0.63006945, 0.36993055]))"
      ]
     },
     "execution_count": 106,
     "metadata": {},
     "output_type": "execute_result"
    }
   ],
   "source": [
    "agg_label(res[0]), agg_label(res[1])"
   ]
  },
  {
   "cell_type": "code",
   "execution_count": 94,
   "metadata": {},
   "outputs": [
    {
     "data": {
      "text/plain": [
       "(array([0.79087405, 0.20912595]), array([0.7908715, 0.2091285]))"
      ]
     },
     "execution_count": 94,
     "metadata": {},
     "output_type": "execute_result"
    }
   ],
   "source": [
    "agg_label(base[0]), agg_label(base[1])"
   ]
  },
  {
   "cell_type": "markdown",
   "metadata": {},
   "source": [
    "# Diversity"
   ]
  },
  {
   "cell_type": "code",
   "execution_count": 68,
   "metadata": {},
   "outputs": [],
   "source": [
    "cc_cls_div_raw = load_exported_data('cc_div_clasification_base@sgower.bz2')\n",
    "cc_cls_div = pd.DataFrame(experiments_utils.extract_counterfactual_explanations(cc_cls_div_raw))\n",
    "cc_cls_div['round_actual'] = (cc_cls_base['actual'] > 0.5).astype(int)\n",
    "cc_cls_div.set_index('sample_idx', inplace=True)"
   ]
  },
  {
   "cell_type": "code",
   "execution_count": 69,
   "metadata": {},
   "outputs": [],
   "source": [
    "def generate_distances(base_distance):\n",
    "    distances = {}\n",
    "    for fold_id, fold_data in enumerate(folds_data):\n",
    "        df = fold_data['df']\n",
    "        train_idx = fold_data['train_idx']\n",
    "        dataset_info = fold_data['dataset_info']\n",
    "        df_train = df.drop(columns=dataset_info.target_column)\n",
    "        X_train = df_train.loc[train_idx]\n",
    "        distance = base_distance()\n",
    "        distance.fit(X_train, dataset_info)\n",
    "        distances[fold_id] = distance\n",
    "        \n",
    "    return distances"
   ]
  },
  {
   "cell_type": "code",
   "execution_count": 70,
   "metadata": {},
   "outputs": [],
   "source": [
    "distances = generate_distances(neighborhood.GowerNeighborhoodDistance)"
   ]
  },
  {
   "cell_type": "code",
   "execution_count": 71,
   "metadata": {},
   "outputs": [],
   "source": [
    "def calculate_distances(row):\n",
    "    counterfactual = pd.Series(row['counterfacutal'])\n",
    "    div_counterfactual = pd.Series(row['div_counterfactual']) \n",
    "    observation = pd.Series(row['observation'])\n",
    "    fold_id = row['fold_id']\n",
    "    \n",
    "    distance = distances[fold_id]\n",
    "    \n",
    "    cc_div_distance = distance.distance(observation, div_counterfactual)\n",
    "    cc_base_distance = distance.distance(observation, counterfactual)\n",
    "    cc_distance = distance.distance(div_counterfactual, counterfactual)\n",
    "    \n",
    "    return pd.Series({'div_factual_distance': cc_div_distance, 'base_factual_distance': cc_base_distance, 'diversity': cc_distance})"
   ]
  },
  {
   "cell_type": "code",
   "execution_count": 72,
   "metadata": {},
   "outputs": [],
   "source": [
    "cc_cls_base_div = cc_cls_div[['fold_id', 'counterfacutal', 'observation']].rename(columns={'counterfacutal':'div_counterfactual'}).join(cc_cls_base[['counterfacutal']], )"
   ]
  },
  {
   "cell_type": "code",
   "execution_count": 73,
   "metadata": {},
   "outputs": [],
   "source": [
    "cc_cls_base_div_distances = cc_cls_base_div.apply(calculate_distances, axis=1)"
   ]
  },
  {
   "cell_type": "code",
   "execution_count": 74,
   "metadata": {},
   "outputs": [
    {
     "data": {
      "text/html": [
       "<div>\n",
       "<style scoped>\n",
       "    .dataframe tbody tr th:only-of-type {\n",
       "        vertical-align: middle;\n",
       "    }\n",
       "\n",
       "    .dataframe tbody tr th {\n",
       "        vertical-align: top;\n",
       "    }\n",
       "\n",
       "    .dataframe thead th {\n",
       "        text-align: right;\n",
       "    }\n",
       "</style>\n",
       "<table border=\"1\" class=\"dataframe\">\n",
       "  <thead>\n",
       "    <tr style=\"text-align: right;\">\n",
       "      <th></th>\n",
       "      <th>div_factual_distance</th>\n",
       "      <th>base_factual_distance</th>\n",
       "      <th>diversity</th>\n",
       "    </tr>\n",
       "    <tr>\n",
       "      <th>round_actual</th>\n",
       "      <th></th>\n",
       "      <th></th>\n",
       "      <th></th>\n",
       "    </tr>\n",
       "  </thead>\n",
       "  <tbody>\n",
       "    <tr>\n",
       "      <th>0</th>\n",
       "      <td>0.199668</td>\n",
       "      <td>0.123303</td>\n",
       "      <td>0.423072</td>\n",
       "    </tr>\n",
       "    <tr>\n",
       "      <th>1</th>\n",
       "      <td>0.197691</td>\n",
       "      <td>0.121310</td>\n",
       "      <td>0.417119</td>\n",
       "    </tr>\n",
       "  </tbody>\n",
       "</table>\n",
       "</div>"
      ],
      "text/plain": [
       "              div_factual_distance  base_factual_distance  diversity\n",
       "round_actual                                                        \n",
       "0                         0.199668               0.123303   0.423072\n",
       "1                         0.197691               0.121310   0.417119"
      ]
     },
     "execution_count": 74,
     "metadata": {},
     "output_type": "execute_result"
    }
   ],
   "source": [
    "table_div = cc_cls_base_div_distances.groupby(cc_cls_div['round_actual']).mean()\n",
    "table_div"
   ]
  },
  {
   "cell_type": "code",
   "execution_count": 72,
   "metadata": {},
   "outputs": [
    {
     "name": "stdout",
     "output_type": "stream",
     "text": [
      "\\begin{tabular}{lrrr}\n",
      "\\toprule\n",
      "{} &  div\\_factual\\_distance &  base\\_factual\\_distance &  diversity \\\\\n",
      "round\\_actual &                       &                        &            \\\\\n",
      "\\midrule\n",
      "0            &              0.289220 &               0.197400 &   0.401329 \\\\\n",
      "1            &              0.290281 &               0.197848 &   0.403215 \\\\\n",
      "\\bottomrule\n",
      "\\end{tabular}\n",
      "\n"
     ]
    }
   ],
   "source": [
    "print(table_div.to_latex())"
   ]
  },
  {
   "cell_type": "code",
   "execution_count": 78,
   "metadata": {},
   "outputs": [
    {
     "data": {
      "text/plain": [
       "(0.12, 0.2)"
      ]
     },
     "execution_count": 78,
     "metadata": {},
     "output_type": "execute_result"
    }
   ],
   "source": [
    "(cc_cls_base_div_distances['base_factual_distance'].mean().round(2), cc_cls_base_div_distances['div_factual_distance'].mean().round(2))"
   ]
  },
  {
   "cell_type": "code",
   "execution_count": 79,
   "metadata": {},
   "outputs": [
    {
     "data": {
      "text/plain": [
       "0.42"
      ]
     },
     "execution_count": 79,
     "metadata": {},
     "output_type": "execute_result"
    }
   ],
   "source": [
    "cc_cls_base_div_distances['diversity'].mean().round(2)"
   ]
  },
  {
   "cell_type": "code",
   "execution_count": 75,
   "metadata": {},
   "outputs": [
    {
     "data": {
      "text/plain": [
       "62.14"
      ]
     },
     "execution_count": 75,
     "metadata": {},
     "output_type": "execute_result"
    }
   ],
   "source": [
    "percentage_change(cc_cls_base_div_distances['base_factual_distance'].mean(), cc_cls_base_div_distances['div_factual_distance'].mean())"
   ]
  },
  {
   "cell_type": "markdown",
   "metadata": {},
   "source": [
    "# Anchor and CS table"
   ]
  },
  {
   "cell_type": "code",
   "execution_count": 20,
   "metadata": {},
   "outputs": [],
   "source": [
    "sf_b = sf_regression_base[['num_conditions', 'own_coverage', 'own_precision', 'prediction']].copy()\n",
    "sf_r = sf_regression_res[['num_conditions', 'own_coverage', 'own_precision', 'prediction']].copy()\n",
    "cs_b = cs_cls_base[['num_conditions', 'own_coverage', 'own_precision', 'prediction']].copy()\n",
    "cs_r = cs_cls_res[['num_conditions', 'own_coverage', 'own_precision', 'prediction']].copy()\n",
    "\n",
    "sf_b['type'] = 'sf_base'\n",
    "sf_r['type'] = 'sf_res'\n",
    "cs_b['type'] = 'cs_base'\n",
    "cs_r['type'] = 'cs_res'\n",
    "\n",
    "\n",
    "all_sfs = pd.concat((sf_b, sf_r, cs_b, cs_r))\n",
    "\n",
    "all_sfs['own_coverage'] = all_sfs['own_coverage'] * 100\n",
    "all_sfs['own_precision'] = all_sfs['own_precision'] * 100\n",
    "all_sfs = all_sfs.rename(columns={'own_coverage': 'Coverage (%)', 'own_precision': 'Precision (%)', 'num_conditions': 'Nº conditions'})"
   ]
  },
  {
   "cell_type": "code",
   "execution_count": 21,
   "metadata": {},
   "outputs": [],
   "source": [
    "def mean_std(x, round_n=2):\n",
    "    mean = round(x.mean(), round_n)\n",
    "    std = round(x.std(), round_n)\n",
    "    \n",
    "    return f\"{mean} ({std})\""
   ]
  },
  {
   "cell_type": "code",
   "execution_count": 61,
   "metadata": {},
   "outputs": [
    {
     "data": {
      "text/html": [
       "<div>\n",
       "<style scoped>\n",
       "    .dataframe tbody tr th:only-of-type {\n",
       "        vertical-align: middle;\n",
       "    }\n",
       "\n",
       "    .dataframe tbody tr th {\n",
       "        vertical-align: top;\n",
       "    }\n",
       "\n",
       "    .dataframe thead tr th {\n",
       "        text-align: left;\n",
       "    }\n",
       "\n",
       "    .dataframe thead tr:last-of-type th {\n",
       "        text-align: right;\n",
       "    }\n",
       "</style>\n",
       "<table border=\"1\" class=\"dataframe\">\n",
       "  <thead>\n",
       "    <tr>\n",
       "      <th></th>\n",
       "      <th></th>\n",
       "      <th>Nº conditions</th>\n",
       "      <th>Coverage (%)</th>\n",
       "      <th>Precision (%)</th>\n",
       "    </tr>\n",
       "    <tr>\n",
       "      <th></th>\n",
       "      <th></th>\n",
       "      <th>mean_std</th>\n",
       "      <th>mean_std</th>\n",
       "      <th>mean_std</th>\n",
       "    </tr>\n",
       "    <tr>\n",
       "      <th>type</th>\n",
       "      <th>prediction</th>\n",
       "      <th></th>\n",
       "      <th></th>\n",
       "      <th></th>\n",
       "    </tr>\n",
       "  </thead>\n",
       "  <tbody>\n",
       "    <tr>\n",
       "      <th rowspan=\"2\" valign=\"top\">cs_base</th>\n",
       "      <th>0</th>\n",
       "      <td>7.14 (2.36)</td>\n",
       "      <td>1.03 (1.64)</td>\n",
       "      <td>83.0 (12.57)</td>\n",
       "    </tr>\n",
       "    <tr>\n",
       "      <th>1</th>\n",
       "      <td>3.05 (1.34)</td>\n",
       "      <td>22.33 (13.83)</td>\n",
       "      <td>95.73 (3.89)</td>\n",
       "    </tr>\n",
       "    <tr>\n",
       "      <th rowspan=\"2\" valign=\"top\">cs_res</th>\n",
       "      <th>0</th>\n",
       "      <td>8.33 (2.33)</td>\n",
       "      <td>1.72 (2.72)</td>\n",
       "      <td>59.55 (32.35)</td>\n",
       "    </tr>\n",
       "    <tr>\n",
       "      <th>1</th>\n",
       "      <td>6.95 (2.53)</td>\n",
       "      <td>20.2 (22.51)</td>\n",
       "      <td>83.45 (13.68)</td>\n",
       "    </tr>\n",
       "    <tr>\n",
       "      <th rowspan=\"2\" valign=\"top\">sf_base</th>\n",
       "      <th>0</th>\n",
       "      <td>2.19 (0.64)</td>\n",
       "      <td>15.25 (8.7)</td>\n",
       "      <td>98.3 (1.69)</td>\n",
       "    </tr>\n",
       "    <tr>\n",
       "      <th>1</th>\n",
       "      <td>7.5 (2.34)</td>\n",
       "      <td>0.4 (0.7)</td>\n",
       "      <td>93.33 (10.47)</td>\n",
       "    </tr>\n",
       "    <tr>\n",
       "      <th rowspan=\"2\" valign=\"top\">sf_res</th>\n",
       "      <th>0</th>\n",
       "      <td>3.89 (1.47)</td>\n",
       "      <td>50.86 (37.73)</td>\n",
       "      <td>98.09 (3.37)</td>\n",
       "    </tr>\n",
       "    <tr>\n",
       "      <th>1</th>\n",
       "      <td>6.64 (3.14)</td>\n",
       "      <td>1.15 (1.97)</td>\n",
       "      <td>92.85 (13.48)</td>\n",
       "    </tr>\n",
       "  </tbody>\n",
       "</table>\n",
       "</div>"
      ],
      "text/plain": [
       "                   Nº conditions   Coverage (%)  Precision (%)\n",
       "                        mean_std       mean_std       mean_std\n",
       "type    prediction                                            \n",
       "cs_base 0            7.14 (2.36)    1.03 (1.64)   83.0 (12.57)\n",
       "        1            3.05 (1.34)  22.33 (13.83)   95.73 (3.89)\n",
       "cs_res  0            8.33 (2.33)    1.72 (2.72)  59.55 (32.35)\n",
       "        1            6.95 (2.53)   20.2 (22.51)  83.45 (13.68)\n",
       "sf_base 0            2.19 (0.64)    15.25 (8.7)    98.3 (1.69)\n",
       "        1             7.5 (2.34)      0.4 (0.7)  93.33 (10.47)\n",
       "sf_res  0            3.89 (1.47)  50.86 (37.73)   98.09 (3.37)\n",
       "        1            6.64 (3.14)    1.15 (1.97)  92.85 (13.48)"
      ]
     },
     "execution_count": 61,
     "metadata": {},
     "output_type": "execute_result"
    }
   ],
   "source": [
    "tab = all_sfs.groupby(['type', 'prediction']).agg([mean_std])\n",
    "tab"
   ]
  },
  {
   "cell_type": "code",
   "execution_count": 62,
   "metadata": {},
   "outputs": [
    {
     "name": "stdout",
     "output_type": "stream",
     "text": [
      "\\begin{tabular}{lllll}\n",
      "\\toprule\n",
      "       &   & Nº conditions &   Coverage (\\%) &  Precision (\\%) \\\\\n",
      "       &   &      mean\\_std &       mean\\_std &       mean\\_std \\\\\n",
      "type & prediction &               &                &                \\\\\n",
      "\\midrule\n",
      "cs\\_base & 0 &   7.14 (2.36) &    1.03 (1.64) &   83.0 (12.57) \\\\\n",
      "       & 1 &   3.05 (1.34) &  22.33 (13.83) &   95.73 (3.89) \\\\\n",
      "cs\\_res & 0 &   8.33 (2.33) &    1.72 (2.72) &  59.55 (32.35) \\\\\n",
      "       & 1 &   6.95 (2.53) &   20.2 (22.51) &  83.45 (13.68) \\\\\n",
      "sf\\_base & 0 &   2.19 (0.64) &    15.25 (8.7) &    98.3 (1.69) \\\\\n",
      "       & 1 &    7.5 (2.34) &      0.4 (0.7) &  93.33 (10.47) \\\\\n",
      "sf\\_res & 0 &   3.89 (1.47) &  50.86 (37.73) &   98.09 (3.37) \\\\\n",
      "       & 1 &   6.64 (3.14) &    1.15 (1.97) &  92.85 (13.48) \\\\\n",
      "\\bottomrule\n",
      "\\end{tabular}\n",
      "\n"
     ]
    }
   ],
   "source": [
    "print(tab.to_latex())"
   ]
  },
  {
   "cell_type": "code",
   "execution_count": 45,
   "metadata": {},
   "outputs": [],
   "source": [
    "def percentage_change(previous, current):\n",
    "    if previous != 0 :\n",
    "        return round(float(current - previous) / abs(previous) * 100, 2)\n",
    "    else:\n",
    "        return \"undefined\""
   ]
  },
  {
   "cell_type": "code",
   "execution_count": 51,
   "metadata": {},
   "outputs": [
    {
     "data": {
      "text/plain": [
       "4.462054000685636"
      ]
     },
     "execution_count": 51,
     "metadata": {},
     "output_type": "execute_result"
    }
   ],
   "source": [
    "sf_b['num_conditions'].mean() * 1.3536"
   ]
  },
  {
   "cell_type": "code",
   "execution_count": 47,
   "metadata": {},
   "outputs": [
    {
     "data": {
      "text/plain": [
       "4.462029005382796"
      ]
     },
     "execution_count": 47,
     "metadata": {},
     "output_type": "execute_result"
    }
   ],
   "source": [
    "sf_r['num_conditions'].mean()"
   ]
  },
  {
   "cell_type": "code",
   "execution_count": 48,
   "metadata": {},
   "outputs": [
    {
     "data": {
      "text/plain": [
       "35.36"
      ]
     },
     "execution_count": 48,
     "metadata": {},
     "output_type": "execute_result"
    }
   ],
   "source": [
    "percentage_change(sf_b['num_conditions'].mean(), sf_r['num_conditions'].mean())"
   ]
  },
  {
   "cell_type": "code",
   "execution_count": 49,
   "metadata": {},
   "outputs": [
    {
     "data": {
      "text/plain": [
       "233.14"
      ]
     },
     "execution_count": 49,
     "metadata": {},
     "output_type": "execute_result"
    }
   ],
   "source": [
    "percentage_change(sf_b['own_coverage'].mean(), sf_r['own_coverage'].mean())"
   ]
  },
  {
   "cell_type": "code",
   "execution_count": 52,
   "metadata": {},
   "outputs": [
    {
     "data": {
      "text/plain": [
       "299.08"
      ]
     },
     "execution_count": 52,
     "metadata": {},
     "output_type": "execute_result"
    }
   ],
   "source": [
    "percentage_change(sf_b['own_coverage'].std(), sf_r['own_coverage'].std())"
   ]
  },
  {
   "cell_type": "code",
   "execution_count": 50,
   "metadata": {},
   "outputs": [
    {
     "data": {
      "text/plain": [
       "-0.24"
      ]
     },
     "execution_count": 50,
     "metadata": {},
     "output_type": "execute_result"
    }
   ],
   "source": [
    "percentage_change(sf_b['own_precision'].mean(), sf_r['own_precision'].mean())"
   ]
  },
  {
   "cell_type": "code",
   "execution_count": null,
   "metadata": {},
   "outputs": [],
   "source": []
  },
  {
   "cell_type": "code",
   "execution_count": 56,
   "metadata": {},
   "outputs": [
    {
     "data": {
      "text/plain": [
       "27.87"
      ]
     },
     "execution_count": 56,
     "metadata": {},
     "output_type": "execute_result"
    }
   ],
   "source": [
    "percentage_change(cs_b['num_conditions'].mean(), cs_r['num_conditions'].mean())"
   ]
  },
  {
   "cell_type": "code",
   "execution_count": 57,
   "metadata": {},
   "outputs": [
    {
     "data": {
      "text/plain": [
       "1.88"
      ]
     },
     "execution_count": 57,
     "metadata": {},
     "output_type": "execute_result"
    }
   ],
   "source": [
    "percentage_change(cs_b['own_coverage'].mean(), cs_r['own_coverage'].mean())"
   ]
  },
  {
   "cell_type": "code",
   "execution_count": 58,
   "metadata": {},
   "outputs": [
    {
     "data": {
      "text/plain": [
       "-23.2"
      ]
     },
     "execution_count": 58,
     "metadata": {},
     "output_type": "execute_result"
    }
   ],
   "source": [
    "percentage_change(cs_b['own_precision'].mean(), cs_r['own_precision'].mean())"
   ]
  }
 ],
 "metadata": {
  "kernelspec": {
   "display_name": "Python 3",
   "language": "python",
   "name": "python3"
  },
  "language_info": {
   "codemirror_mode": {
    "name": "ipython",
    "version": 3
   },
   "file_extension": ".py",
   "mimetype": "text/x-python",
   "name": "python",
   "nbconvert_exporter": "python",
   "pygments_lexer": "ipython3",
   "version": "3.8.5"
  }
 },
 "nbformat": 4,
 "nbformat_minor": 4
}
